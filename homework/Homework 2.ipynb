{
 "cells": [
  {
   "cell_type": "markdown",
   "id": "1306d820",
   "metadata": {},
   "source": [
    "# Homework 2\n",
    "## Sujay Srinivasan"
   ]
  },
  {
   "cell_type": "markdown",
   "id": "3da7c9dc",
   "metadata": {},
   "source": [
    "Problem 1: Merging Two Sorted Arrays\n",
    "Using a programming language of your choice (Python recommended), write a function to merge two sorted arrays into a single sorted array. You are given two sorted arrays, and your task is to combine them in sorted order."
   ]
  },
  {
   "cell_type": "code",
   "execution_count": 23,
   "id": "8c0950cf",
   "metadata": {},
   "outputs": [
    {
     "name": "stdout",
     "output_type": "stream",
     "text": [
      "[10, 20, 30, 40, 50, 60]\n"
     ]
    }
   ],
   "source": [
    "# Create function\n",
    "def merge_sorted_arrays(arr1, arr2):\n",
    "    n = len(arr1)  # Length of arr1\n",
    "    m = len(arr2)  # Length of arr2\n",
    "    i, j = 0, 0  # Pointers\n",
    "    merge_array = [] \n",
    "    \n",
    "    while i < n and j < m:\n",
    "        if arr1[i] < arr2[j]:\n",
    "            merge_array.append(arr1[i])\n",
    "            i += 1  # Move pointer in arr1 forward\n",
    "        else:\n",
    "            merge_array.append(arr2[j])\n",
    "            j += 1  # Move pointer in arr2 forward\n",
    "\n",
    "    # Copy over remaining elements of arr1\n",
    "    while i < n:\n",
    "        merge_array.append(arr1[i])\n",
    "        i += 1\n",
    "    # Copy over remaining elements of arr2\n",
    "    while j < m:\n",
    "        merge_array.append(arr2[j])\n",
    "        j += 1\n",
    "\n",
    "    return merge_array  # Return the merged array\n",
    "\n",
    "# Display sorted array\n",
    "arr1 = [10, 30, 50]\n",
    "arr2 = [20, 40, 60]\n",
    "print(merge_sorted_arrays(arr1, arr2))"
   ]
  },
  {
   "cell_type": "markdown",
   "id": "77b005ab",
   "metadata": {},
   "source": [
    "Problem 2: Merge Sorting an Array\n",
    "Using a programming language of your choice (Python recommended), implement the merge sort algorithm to sort any\n",
    "unsorted array. The array can contain any integers, and the goal is to sort the array using the merge sort technique"
   ]
  },
  {
   "cell_type": "code",
   "execution_count": 22,
   "id": "78456b3e",
   "metadata": {},
   "outputs": [
    {
     "name": "stdout",
     "output_type": "stream",
     "text": [
      "[4, 26, 38, 50, 63, 92]\n"
     ]
    }
   ],
   "source": [
    "# Create function\n",
    "def merge_sort(arr):\n",
    "    # Return array if it has 1 or less elements\n",
    "    if len(arr) <= 1:\n",
    "        return arr\n",
    "    low = 0 # Lower bound\n",
    "    high = len(arr) - 1 # Upper bound\n",
    "    \n",
    "    # Find midpoint and create halves\n",
    "    mid = (low + high) // 2\n",
    "    low_arr = arr[low:mid + 1]  \n",
    "    high_arr = arr[mid + 1:high + 1]\n",
    "    \n",
    "    # Sort both halves\n",
    "    left_sorted = merge_sort(low_arr)\n",
    "    right_sorted = merge_sort(high_arr)\n",
    "    \n",
    "    # Merge the sorted halves together using two sorted method\n",
    "    n = len(left_sorted)  \n",
    "    m = len(right_sorted)  \n",
    "    i, j = 0, 0 # Pointers\n",
    "    merged_sorted = []\n",
    "    \n",
    "    while i < n and j < m:\n",
    "        if left_sorted[i] < right_sorted[j]:\n",
    "            merged_sorted.append(left_sorted[i])\n",
    "            i += 1  # Move pointer in left_sorted forward\n",
    "        else:\n",
    "            merged_sorted.append(right_sorted[j])\n",
    "            j += 1  # Move pointer in right_sorted forward\n",
    "\n",
    "    # Copy over remaining elements of left_sorted\n",
    "    while i < n:\n",
    "        merged_sorted.append(left_sorted[i])\n",
    "        i += 1\n",
    "    # Copy over remaining elements of right_sorted\n",
    "    while j < m:\n",
    "        merged_sorted.append(right_sorted[j])\n",
    "        j += 1\n",
    "        \n",
    "    return(merged_sorted) # Return merged array\n",
    "\n",
    "# Display sorted array\n",
    "arr = [50, 26, 63, 38, 92, 4]\n",
    "print(merge_sort(arr))\n"
   ]
  }
 ],
 "metadata": {
  "kernelspec": {
   "display_name": "Python 3 (ipykernel)",
   "language": "python",
   "name": "python3"
  },
  "language_info": {
   "codemirror_mode": {
    "name": "ipython",
    "version": 3
   },
   "file_extension": ".py",
   "mimetype": "text/x-python",
   "name": "python",
   "nbconvert_exporter": "python",
   "pygments_lexer": "ipython3",
   "version": "3.11.7"
  }
 },
 "nbformat": 4,
 "nbformat_minor": 5
}
