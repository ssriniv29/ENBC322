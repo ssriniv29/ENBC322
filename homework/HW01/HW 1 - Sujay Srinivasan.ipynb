{
 "cells": [
  {
   "cell_type": "markdown",
   "id": "4a8315c3",
   "metadata": {},
   "source": [
    "# Homework 1\n",
    "## Sujay Srinivasan"
   ]
  },
  {
   "cell_type": "raw",
   "id": "bc68fdd8",
   "metadata": {},
   "source": [
    "1. Finding the Maximum Element in an Array\n",
    "Using a programming language of your choice (Python recommended), write a function to find the maximum\n",
    "element in an array.\n",
    "Function Signature (Python):"
   ]
  },
  {
   "cell_type": "code",
   "execution_count": 31,
   "id": "a8e1516b",
   "metadata": {},
   "outputs": [
    {
     "name": "stdout",
     "output_type": "stream",
     "text": [
      "29\n"
     ]
    }
   ],
   "source": [
    "# Create function\n",
    "def find_max(arr):\n",
    "    max_number = arr[0] # Assume the first element is the max\n",
    "    for number in arr: # Create loop inspecting all numbers\n",
    "        if number > max_number:\n",
    "            max_number = number\n",
    "    return max_number\n",
    "\n",
    "arr = [1, 12, 6, 27, 29, 10]\n",
    "print(find_max(arr)) # Display maximum number"
   ]
  },
  {
   "cell_type": "raw",
   "id": "ed3cf138",
   "metadata": {},
   "source": [
    "2. Binary Search Function\n",
    "Using a programming language of your choice (Python recommended), implement a function to perform a binary search on a sorted array. The function should return the index of the target if found, or -1 if the target is not in the array"
   ]
  },
  {
   "cell_type": "code",
   "execution_count": 29,
   "id": "a2087642",
   "metadata": {},
   "outputs": [
    {
     "name": "stdout",
     "output_type": "stream",
     "text": [
      "5\n"
     ]
    }
   ],
   "source": [
    "# Create function\n",
    "def binarySearch(target, arr):\n",
    "    low = 0\n",
    "    high = len(arr) - 1\n",
    "    while low <= high: # Create loop inspecting middle element\n",
    "        mid = (low + high) // 2 \n",
    "        if target == arr[mid]:\n",
    "            return mid\n",
    "        elif target < arr[mid]:\n",
    "            high = mid - 1\n",
    "        elif target > arr[mid]:\n",
    "            low = mid + 1\n",
    "    \n",
    "arr = [2, 4, 6, 8, 10, 12, 14, 16, 18]\n",
    "target = 12\n",
    "print(binarySearch(target, arr)) # Display index"
   ]
  }
 ],
 "metadata": {
  "kernelspec": {
   "display_name": "Python 3 (ipykernel)",
   "language": "python",
   "name": "python3"
  },
  "language_info": {
   "codemirror_mode": {
    "name": "ipython",
    "version": 3
   },
   "file_extension": ".py",
   "mimetype": "text/x-python",
   "name": "python",
   "nbconvert_exporter": "python",
   "pygments_lexer": "ipython3",
   "version": "3.11.7"
  }
 },
 "nbformat": 4,
 "nbformat_minor": 5
}
