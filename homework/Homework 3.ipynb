{
 "cells": [
  {
   "cell_type": "markdown",
   "id": "6a9c323a",
   "metadata": {},
   "source": [
    "# Homework 3\n",
    "## Sujay Srinivasan"
   ]
  },
  {
   "cell_type": "markdown",
   "id": "7dc6a260",
   "metadata": {},
   "source": [
    "1. Climbing Stairs Problem\n",
    "Imagine you're at the bottom of a staircase with n steps, and you can climb either 1 or 2 steps at a time. You need to determine how many distinct ways you can reach the top.\n",
    "\n",
    "(a) Top-Down Approach (with Memoization)\n",
    "Write a function that solves this problem using a top-down recursive approach with memoization to optimize repeated calculations.\n",
    "\n",
    "(b) Bottom-Up Approach\n",
    "Write a function that solves this problem using a bottom-up dynamic programming approach, where you iteratively calculate the number of ways to climb the stairs."
   ]
  },
  {
   "cell_type": "code",
   "execution_count": 22,
   "id": "fe6ad855",
   "metadata": {},
   "outputs": [
    {
     "name": "stdout",
     "output_type": "stream",
     "text": [
      "Enter number of steps: 25\n",
      "121393\n"
     ]
    }
   ],
   "source": [
    "# Top-Down Approach\n",
    "# Create function\n",
    "def climbing_stairs_top_down(n :int, memo = {}) -> int:\n",
    "    # If value is already computed, return it\n",
    "    if n in memo:\n",
    "        return memo[n]\n",
    "    # Base case\n",
    "    if n == 0:\n",
    "        return 1 # Staying on the same step\n",
    "    elif n == 1:\n",
    "        return 1\n",
    "    \n",
    "    # Recursively compute and store value in memo\n",
    "    memo[n] = climbing_stairs_top_down(n-1, memo) + climbing_stairs_top_down(n-2, memo)\n",
    "    return memo[n]\n",
    "\n",
    "# Display result\n",
    "n = int(input(\"Enter number of steps: \"))\n",
    "print(climbing_stairs_top_down(n))"
   ]
  },
  {
   "cell_type": "code",
   "execution_count": 23,
   "id": "bc5c9664",
   "metadata": {},
   "outputs": [
    {
     "name": "stdout",
     "output_type": "stream",
     "text": [
      "Enter number of steps: 25\n",
      "121393\n"
     ]
    }
   ],
   "source": [
    "# Bottom-Up Approach\n",
    "# Create function\n",
    "def climbing_stairs_bottom_up(n: int) -> int:\n",
    "    # Base cases\n",
    "    if n == 0:\n",
    "        return 1 # Staying on the same step\n",
    "    elif n == 1:\n",
    "        return 1\n",
    "    \n",
    "    # Create an array to store the values\n",
    "    climb = [0] * (n+1)\n",
    "    climb[0] = 1\n",
    "    climb[1] = 1\n",
    "    \n",
    "    # Fill in the values from the bottom up\n",
    "    for i in range(2, n+1):\n",
    "        climb[i] = climb[i-1] + climb[i-2]\n",
    "    \n",
    "    return climb[n]\n",
    "\n",
    "# Display result\n",
    "n = int(input(\"Enter number of steps: \"))\n",
    "print(climbing_stairs_bottom_up(n))"
   ]
  },
  {
   "cell_type": "markdown",
   "id": "566a1427",
   "metadata": {},
   "source": [
    "2. Fibonacci Sequence\n",
    "You are required to write a function in Python to compute the nth Fibonacci number using recursion. The Fibonacci sequence is defined as follows:\n",
    "F(0) = 0\n",
    "F(1) = 1\n",
    "F(n) = F(n-1) + F(n-2) for n > 1\n",
    "\n",
    "Input:\n",
    "An integer n (0 ≤ n ≤ 50)\n",
    "\n",
    "Output:\n",
    "The nth Fibonacci number.\n",
    "Write a recursive function to compute the Fibonacci number based on the given constraints."
   ]
  },
  {
   "cell_type": "code",
   "execution_count": 27,
   "id": "6c096714",
   "metadata": {},
   "outputs": [
    {
     "name": "stdout",
     "output_type": "stream",
     "text": [
      "Enter an integer 0 ≤ n ≤ 50: 25\n",
      "75025\n"
     ]
    }
   ],
   "source": [
    "# Create function\n",
    "def Fibonacci(n):\n",
    "    # Base cases\n",
    "    if n < 0:\n",
    "        print(\"Error\")\n",
    "    elif n == 0:\n",
    "        return 0\n",
    "    elif n == 1 or n == 2:\n",
    "        return 1\n",
    "    elif n > 50:\n",
    "        print(\"Number is too large\")\n",
    "    \n",
    "    # Recursive case\n",
    "    else:\n",
    "        return Fibonacci(n-1) + Fibonacci(n-2)\n",
    "\n",
    "# Display number\n",
    "n = int(input(\"Enter an integer 0 ≤ n ≤ 50: \"))\n",
    "print(Fibonacci(n))"
   ]
  }
 ],
 "metadata": {
  "kernelspec": {
   "display_name": "Python 3 (ipykernel)",
   "language": "python",
   "name": "python3"
  },
  "language_info": {
   "codemirror_mode": {
    "name": "ipython",
    "version": 3
   },
   "file_extension": ".py",
   "mimetype": "text/x-python",
   "name": "python",
   "nbconvert_exporter": "python",
   "pygments_lexer": "ipython3",
   "version": "3.11.7"
  }
 },
 "nbformat": 4,
 "nbformat_minor": 5
}
