{
 "cells": [
  {
   "cell_type": "markdown",
   "id": "68864879",
   "metadata": {},
   "source": [
    "# Homework 4\n",
    "## Sujay Srinivasan"
   ]
  },
  {
   "cell_type": "markdown",
   "id": "42147716",
   "metadata": {},
   "source": [
    "1. Implement a Node Class (Python)\n",
    "Create a Python class named Node to represent a node in a binary tree. Each node should contain:\n",
    "An integer value\n",
    "A reference to the left child node ( left )\n",
    "A reference to the right child node ( right )"
   ]
  },
  {
   "cell_type": "code",
   "execution_count": 12,
   "id": "7398e726",
   "metadata": {},
   "outputs": [
    {
     "name": "stdout",
     "output_type": "stream",
     "text": [
      "The value of the node is: 5\n"
     ]
    }
   ],
   "source": [
    "# Create node class\n",
    "class Node:\n",
    "    def __init__(self, value):\n",
    "        self.value = value\n",
    "        self.left = None\n",
    "        self.right = None\n",
    "\n",
    "# Create a node with the value 5\n",
    "node = Node(5)\n",
    "\n",
    "# Print the node's value\n",
    "print(f\"The value of the node is: {node.value}\")"
   ]
  },
  {
   "cell_type": "markdown",
   "id": "149194bb",
   "metadata": {},
   "source": [
    "2. Implement a Binary Tree Class (Python)\n",
    "Create a class BinaryTree to represent the binary tree. Add a method to insert nodes in the binary tree. For simplicity, assume it’s a binary search tree (BST) and insert nodes accordingly."
   ]
  },
  {
   "cell_type": "code",
   "execution_count": 20,
   "id": "342df672",
   "metadata": {},
   "outputs": [],
   "source": [
    "# Create node class\n",
    "class Node:\n",
    "    def __init__(self, value):\n",
    "        self.value = value\n",
    "        self.left = None\n",
    "        self.right = None\n",
    "        \n",
    "# Create Binary Tree\n",
    "class BinaryTree:\n",
    "    def __init__(self):\n",
    "        self.root = None\n",
    "    \n",
    "    def insert(self, value):\n",
    "        self.root = self._insert_recursive(self.root, value)\n",
    "\n",
    "    def _insert_recursive(self, node, value):\n",
    "        if node is None:  # Base case\n",
    "            return Node(value)\n",
    "        if value == node.value:\n",
    "            return node  # Duplicate values are ignored\n",
    "        if value < node.value:\n",
    "            node.left = self._insert_recursive(node.left, value)\n",
    "        else:\n",
    "            node.right = self._insert_recursive(node.right, value)\n",
    "        return node\n",
    "        pass\n",
    "    \n",
    "# Create tree\n",
    "tree = BinaryTree()\n",
    "tree.insert(10)\n",
    "tree.insert(5)\n",
    "tree.insert(15)\n",
    "tree.insert(3)\n",
    "tree.insert(7)\n",
    "tree.insert(12)\n",
    "tree.insert(18)"
   ]
  },
  {
   "cell_type": "markdown",
   "id": "4752740f",
   "metadata": {},
   "source": [
    "3. Print All Elements Using Depth-First Search (DFS) - Inorder Traversal\n",
    "Implement a method to print all elements of the tree using an inorder DFS traversal"
   ]
  },
  {
   "cell_type": "code",
   "execution_count": 24,
   "id": "ee1e0286",
   "metadata": {},
   "outputs": [
    {
     "name": "stdout",
     "output_type": "stream",
     "text": [
      "Inorder DFS Traversal:\n",
      "3 5 7 10 12 15 18 "
     ]
    }
   ],
   "source": [
    "# Create node class\n",
    "class Node:\n",
    "    def __init__(self, value):\n",
    "        self.value = value\n",
    "        self.left = None\n",
    "        self.right = None\n",
    "\n",
    "# Create Binary Tree\n",
    "class BinaryTree:\n",
    "    def __init__(self):\n",
    "        self.root = None\n",
    "    \n",
    "    def insert(self, value):\n",
    "        self.root = self._insert_recursive(self.root, value)\n",
    "\n",
    "    def _insert_recursive(self, node, value): # Use recursive function for binary search\n",
    "        if node is None:  # Base case\n",
    "            return Node(value)\n",
    "        if value == node.value:\n",
    "            return node  # Ignore duplicates\n",
    "        if value < node.value:\n",
    "            node.left = self._insert_recursive(node.left, value)\n",
    "        else:\n",
    "            node.right = self._insert_recursive(node.right, value)\n",
    "        return node\n",
    "\n",
    "    # Inorder traversal\n",
    "    def inorder_dfs(self, node):\n",
    "        if node is not None:\n",
    "            self.inorder_dfs(node.left)\n",
    "            print(node.value, end = \" \")\n",
    "            self.inorder_dfs(node.right)\n",
    "\n",
    "# Create tree\n",
    "tree = BinaryTree()\n",
    "tree.insert(10)\n",
    "tree.insert(5)\n",
    "tree.insert(15)\n",
    "tree.insert(3)\n",
    "tree.insert(7)\n",
    "tree.insert(12)\n",
    "tree.insert(18)\n",
    "\n",
    "# Output the nodes in inorder sorted order\n",
    "print(\"Inorder DFS Traversal:\")\n",
    "tree.inorder_dfs(tree.root)\n"
   ]
  },
  {
   "cell_type": "markdown",
   "id": "725a532d",
   "metadata": {},
   "source": [
    "4. Print All Elements Using Breadth-First Search (BFS)\n",
    "Implement a method to print all elements of the tree using BFS."
   ]
  },
  {
   "cell_type": "code",
   "execution_count": 23,
   "id": "8f36daae",
   "metadata": {},
   "outputs": [
    {
     "name": "stdout",
     "output_type": "stream",
     "text": [
      "BFS Traversal:\n",
      "10 5 15 3 7 12 18 "
     ]
    }
   ],
   "source": [
    "# Create node class\n",
    "class Node:\n",
    "    def __init__(self, value):\n",
    "        self.value = value\n",
    "        self.left = None\n",
    "        self.right = None\n",
    "\n",
    "# Create Binary Tree\n",
    "class BinaryTree:\n",
    "    def __init__(self):\n",
    "        self.root = None\n",
    "    \n",
    "    def insert(self, value):\n",
    "        self.root = self._insert_recursive(self.root, value)\n",
    "\n",
    "    def _insert_recursive(self, node, value): # Use recursive function for binary search\n",
    "        if node is None:  # Base case\n",
    "            return Node(value)\n",
    "        if value == node.value:\n",
    "            return node  # Ignore duplicates\n",
    "        if value < node.value:\n",
    "            node.left = self._insert_recursive(node.left, value)\n",
    "        else:\n",
    "            node.right = self._insert_recursive(node.right, value)\n",
    "        return node\n",
    "\n",
    "    # BFS Traversal\n",
    "    def BFS(self):\n",
    "        if self.root is None:\n",
    "            return  # Base case\n",
    "        \n",
    "        # Create a queue\n",
    "        queue = []\n",
    "        \n",
    "        # Enqueue the root node\n",
    "        queue.append(self.root)\n",
    "        \n",
    "        while len(queue) > 0:\n",
    "            node = queue.pop(0) # Dequeue the front node\n",
    "            print(node.value, end = \" \")\n",
    "            \n",
    "            # Enqueue any left and right children\n",
    "            if node.left is not None:\n",
    "                queue.append(node.left)\n",
    "            if node.right is not None:\n",
    "                queue.append(node.right)\n",
    "\n",
    "# Create tree\n",
    "tree = BinaryTree()\n",
    "tree.insert(10)\n",
    "tree.insert(5)\n",
    "tree.insert(15)\n",
    "tree.insert(3)\n",
    "tree.insert(7)\n",
    "tree.insert(12)\n",
    "tree.insert(18)\n",
    "\n",
    "# Output the nodes in BFS sorted order\n",
    "print(\"BFS Traversal:\")\n",
    "tree.BFS()"
   ]
  }
 ],
 "metadata": {
  "kernelspec": {
   "display_name": "Python 3 (ipykernel)",
   "language": "python",
   "name": "python3"
  },
  "language_info": {
   "codemirror_mode": {
    "name": "ipython",
    "version": 3
   },
   "file_extension": ".py",
   "mimetype": "text/x-python",
   "name": "python",
   "nbconvert_exporter": "python",
   "pygments_lexer": "ipython3",
   "version": "3.11.7"
  }
 },
 "nbformat": 4,
 "nbformat_minor": 5
}
